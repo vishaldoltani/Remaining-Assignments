{
 "cells": [
  {
   "cell_type": "code",
   "execution_count": 4,
   "metadata": {},
   "outputs": [],
   "source": [
    "#Define Object Oriented Programming Language?"
   ]
  },
  {
   "cell_type": "code",
   "execution_count": 5,
   "metadata": {},
   "outputs": [],
   "source": [
    "#It is a paradigm in which real world objects are each viewed a seprate entities having their own state which is \n",
    "#modified only by built in procedure called methods."
   ]
  },
  {
   "cell_type": "code",
   "execution_count": 7,
   "metadata": {},
   "outputs": [],
   "source": [
    "#List down the Benefits of OOP?"
   ]
  },
  {
   "cell_type": "code",
   "execution_count": 8,
   "metadata": {},
   "outputs": [],
   "source": [
    "#1-Modularity for easier troubleshooting\n",
    "#2Reuse of code through inheritance\n",
    "#3 Flexibility through polymorphism\n",
    "# 4 Effective problem solving"
   ]
  },
  {
   "cell_type": "code",
   "execution_count": 9,
   "metadata": {},
   "outputs": [],
   "source": [
    "#Differentiate between function and method?"
   ]
  },
  {
   "cell_type": "code",
   "execution_count": null,
   "metadata": {},
   "outputs": [],
   "source": [
    "#Funtion:\n",
    "#A function is a block of code to carry out a specific task, will contain its own scope\n",
    "#and is called by name. All functions may contain zero(no) arguments or more than one arguments. \n",
    "#On exit, a function can or can not return one or more value\n",
    "#Method:\n",
    "# Functionality we put in object is called method."
   ]
  },
  {
   "cell_type": "code",
   "execution_count": null,
   "metadata": {},
   "outputs": [],
   "source": [
    "#Define the following terms:\n",
    "#1. Class\n",
    "#2. Object\n",
    "#3. Attribute\n",
    "#4. Behavior"
   ]
  },
  {
   "cell_type": "code",
   "execution_count": null,
   "metadata": {},
   "outputs": [],
   "source": [
    "#1 Class = We create objects in class i-e Car is a like class.\n",
    "#2 Object=object is the feature of class i-e Objects are feature of car like speed.\n",
    "#Attribute=Everything in Python is an object, and almost everything has attributes and methods.\n",
    "#In python, functions too are objects. So they have attributes like other objects.\n",
    "#Behaviour=Objects in Python are generally classified according to their behaviors and the \n",
    "#features that they implement. For example, all of the sequence types such as strings, lists,\n",
    "#and tuples are grouped together merely because they all happen to support a common set of \n",
    "#sequence operations such as s[n], len(s).\n"
   ]
  }
 ],
 "metadata": {
  "kernelspec": {
   "display_name": "Python 3",
   "language": "python",
   "name": "python3"
  },
  "language_info": {
   "codemirror_mode": {
    "name": "ipython",
    "version": 3
   },
   "file_extension": ".py",
   "mimetype": "text/x-python",
   "name": "python",
   "nbconvert_exporter": "python",
   "pygments_lexer": "ipython3",
   "version": "3.7.4"
  }
 },
 "nbformat": 4,
 "nbformat_minor": 2
}

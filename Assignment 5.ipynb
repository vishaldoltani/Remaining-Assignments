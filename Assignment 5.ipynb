{
 "cells": [
  {
   "cell_type": "code",
   "execution_count": 5,
   "metadata": {},
   "outputs": [
    {
     "name": "stdout",
     "output_type": "stream",
     "text": [
      "Input a number to compute the factiorial : 25\n",
      "15511210043330985984000000\n"
     ]
    }
   ],
   "source": [
    "def factorial(n):\n",
    "    if n == 0:\n",
    "        return 1\n",
    "    else:\n",
    "        return n * factorial(n-1)\n",
    "n=int(input(\"Input a number to compute the factiorial : \"))\n",
    "print(factorial(n))"
   ]
  },
  {
   "cell_type": "code",
   "execution_count": 18,
   "metadata": {},
   "outputs": [
    {
     "name": "stdout",
     "output_type": "stream",
     "text": [
      "Original String :  Python Programming Language\n",
      "No. of Upper case characters :  3\n",
      "No. of Lower case Characters :  22\n"
     ]
    }
   ],
   "source": [
    "def string_test(s):\n",
    "    d={\"UPPER_CASE\":0, \"LOWER_CASE\":0}\n",
    "    for c in s:\n",
    "        if c.isupper():\n",
    "           d[\"UPPER_CASE\"]+=1\n",
    "        elif c.islower():\n",
    "           d[\"LOWER_CASE\"]+=1\n",
    "        else:\n",
    "           pass\n",
    "    print (\"Original String : \", s)\n",
    "    print (\"No. of Upper case characters : \", d[\"UPPER_CASE\"])\n",
    "    print (\"No. of Lower case Characters : \", d[\"LOWER_CASE\"])\n",
    "\n",
    "string_test('Python Programming Language')"
   ]
  },
  {
   "cell_type": "code",
   "execution_count": 20,
   "metadata": {},
   "outputs": [
    {
     "name": "stdout",
     "output_type": "stream",
     "text": [
      "10 4 66 "
     ]
    }
   ],
   "source": [
    "# Python program to print Even Numbers in a List \n",
    "  \n",
    "# list of numbers \n",
    "list1 = [10, 21, 4, 45, 66, 93]\n",
    "num = 0\n",
    "  \n",
    "# using while loop         \n",
    "while(num < len(list1)): \n",
    "      \n",
    "    # checking condition \n",
    "    if num % 2 == 0: \n",
    "       print(list1[num], end = \" \") \n",
    "      \n",
    "    # increment num   \n",
    "    num += 1"
   ]
  },
  {
   "cell_type": "code",
   "execution_count": 23,
   "metadata": {},
   "outputs": [
    {
     "name": "stdout",
     "output_type": "stream",
     "text": [
      "No\n"
     ]
    }
   ],
   "source": [
    "def reverse(s): \n",
    "    return s[::-1] \n",
    "  \n",
    "def isPalindrome(s): \n",
    "    # Calling reverse function \n",
    "    rev = reverse(s) \n",
    "  \n",
    "    # Checking if both string are equal or not \n",
    "    if (s == rev): \n",
    "        return True\n",
    "    return False\n",
    "  \n",
    "  \n",
    "# Driver code \n",
    "s = \"Pakistan\"\n",
    "ans = isPalindrome(s) \n",
    "  \n",
    "if ans == 1: \n",
    "    print(\"Yes\") \n",
    "else: \n",
    "    print(\"No\") "
   ]
  },
  {
   "cell_type": "code",
   "execution_count": 24,
   "metadata": {},
   "outputs": [
    {
     "name": "stdout",
     "output_type": "stream",
     "text": [
      "True\n"
     ]
    }
   ],
   "source": [
    "def test_prime(n):\n",
    "    if (n==1):\n",
    "        return False\n",
    "    elif (n==2):\n",
    "        return True;\n",
    "    else:\n",
    "        for x in range(2,n):\n",
    "            if(n % x==0):\n",
    "                return False\n",
    "        return True             \n",
    "print(test_prime(7))"
   ]
  },
  {
   "cell_type": "code",
   "execution_count": 25,
   "metadata": {},
   "outputs": [
    {
     "name": "stdout",
     "output_type": "stream",
     "text": [
      "Enter your budget : 12\n",
      "1.ADD\n",
      "2.EXIT\n",
      "Enter your choice : 1\n",
      "Enter product name : vegetables\n",
      "Enter quantity : 2kg\n",
      "Enter price of the product : 30\n",
      "\n",
      "CAN, T BUT THE PRODUCT\n",
      "1.ADD\n",
      "2.EXIT\n",
      "Enter your choice : 1\n",
      "Enter product name : fruit\n",
      "Enter quantity : 1\n",
      "Enter price of the product : 45\n",
      "\n",
      "CAN, T BUT THE PRODUCT\n",
      "1.ADD\n",
      "2.EXIT\n",
      "Enter your choice : 2\n",
      "\n",
      "Amount left : Rs. 12.0\n",
      "\n",
      "\n",
      "\n",
      "GROCERY LIST\n"
     ]
    }
   ],
   "source": [
    "\n",
    "# This loop will go on until the budget is integer or float \n",
    "while True:  \n",
    "    try: \n",
    "        bg = float(input(\"Enter your budget : \")) \n",
    "        # if budget is integer or float it will be stored  \n",
    "        # temporarily in variable 's' \n",
    "        s = bg  \n",
    "    except ValueError: \n",
    "        print(\"PRINT NUMBER AS A AMOUNT\") \n",
    "        continue\n",
    "    else: \n",
    "        break\n",
    "  \n",
    "# dictionary to store product(\"name\"), quantity(\"quant\"),  \n",
    "# price(\"price\") with empty list as their values \n",
    "a ={\"name\":[], \"quant\":[], \"price\":[]} \n",
    "  \n",
    "# converting dictionary to list for further updation \n",
    "b = list(a.values()) \n",
    "  \n",
    "# variable na value of \"name\" from dictionary 'a' \n",
    "na = b[0] \n",
    "  \n",
    "# variable qu value of \"quant\" from dictionary 'a' \n",
    "qu = b[1] \n",
    "  \n",
    "# variable pr value of \"price\" from dictionary 'a' \n",
    "pr = b[2] \n",
    "  \n",
    "# This loop terminates when user select 2.EXIT option when asked \n",
    "# in try it will ask user for an option as an integer (1 or 2)  \n",
    "# if correct then proceed else continue asking options \n",
    "while True: \n",
    "    try: \n",
    "        ch = int(input(\"1.ADD\\n2.EXIT\\nEnter your choice : \")) \n",
    "    except ValueError: \n",
    "        print(\"\\nERROR: Choose only digits from the given option\") \n",
    "        continue\n",
    "    else: \n",
    "        # check the budget is greater than zero and option selected \n",
    "        # by user is 1 i.e. to add an item \n",
    "        if ch == 1 and s>0:        \n",
    "   \n",
    "            # input products name                 \n",
    "            pn = input(\"Enter product name : \")  \n",
    "            # input quantity of product \n",
    "            q = input(\"Enter quantity : \") \n",
    "            # input price of the product \n",
    "            p = float(input(\"Enter price of the product : \"))   \n",
    "  \n",
    "            if p>s: \n",
    "                # checks if price is less than budget \n",
    "                print(\"\\nCAN, T BUT THE PRODUCT\")  \n",
    "                continue\n",
    "  \n",
    "            else: \n",
    "                # checks if product name already in list \n",
    "                if pn in na:   \n",
    "                    # find the index of that product \n",
    "                    ind = na.index(pn)   \n",
    "  \n",
    "                    # remove quantity from \"quant\"  index of the product \n",
    "                    qu.remove(qu[ind])  \n",
    "  \n",
    "                    # remove price from \"price\" index of the product \n",
    "                    pr.remove(pr[ind])   \n",
    "  \n",
    "                    # insert new value given by user earlier \n",
    "                    qu.insert(ind, q)    \n",
    "  \n",
    "                    # insert new value given by user earlier \n",
    "                    pr.insert(ind, p)    \n",
    "  \n",
    "                    # subtracting the price from the budget and assign \n",
    "                    # it to 's' sum(pr) is because pr = [100, 200] if  \n",
    "                    # budget is 500 then s = bg-sum(pr) = 200 \n",
    "                    # after updating for same product at index 0 let \n",
    "                    # pr = [200, 200] so s = 100 \n",
    "                    s = bg-sum(pr)    \n",
    "  \n",
    "                    print(\"\\namount left\", s) \n",
    "                else: \n",
    "                    # append value of in \"name\", \"quantity\", \"price\" \n",
    "                    na.append(pn)   \n",
    "   \n",
    "                    # as na = b[0] it will append all the value in the \n",
    "                    # list eg: \"name\":[\"rice\"] \n",
    "                    qu.append(q)    \n",
    "  \n",
    "                    # same for quantity and price \n",
    "                    pr.append(p)     \n",
    "  \n",
    "                    # after appending new value the sum in price \n",
    "                    # as to be calculated \n",
    "                    s = bg-sum(pr)    \n",
    "  \n",
    "                    print(\"\\namount left\", s) \n",
    "  \n",
    "        # if budget goes zero print \"NO BUDGET\" \n",
    "        elif s<= 0:  \n",
    "            print(\"\\nNO BUDGET\")  \n",
    "        else: \n",
    "            break \n",
    "  \n",
    "# will print amount left in variable 's' \n",
    "print(\"\\nAmount left : Rs.\", s)  \n",
    "  \n",
    "# if the amount left equals to any amount in price list \n",
    "if s in pr:  \n",
    "    # then printing the name of the product which can buy \n",
    "    print(\"\\nAmount left can buy you a\", na[pr.index(s)])   \n",
    "  \n",
    "print(\"\\n\\n\\nGROCERY LIST\") \n",
    "  \n",
    "# print final grocery list \n",
    "for i in range(len(na)):  \n",
    "    print(na[i], qu[i], pr[i])"
   ]
  },
  {
   "cell_type": "code",
   "execution_count": null,
   "metadata": {},
   "outputs": [],
   "source": []
  }
 ],
 "metadata": {
  "kernelspec": {
   "display_name": "Python 3",
   "language": "python",
   "name": "python3"
  },
  "language_info": {
   "codemirror_mode": {
    "name": "ipython",
    "version": 3
   },
   "file_extension": ".py",
   "mimetype": "text/x-python",
   "name": "python",
   "nbconvert_exporter": "python",
   "pygments_lexer": "ipython3",
   "version": "3.7.4"
  }
 },
 "nbformat": 4,
 "nbformat_minor": 2
}
